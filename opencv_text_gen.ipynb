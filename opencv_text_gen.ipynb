{
 "cells": [
  {
   "cell_type": "code",
   "execution_count": 1,
   "metadata": {
    "collapsed": false,
    "deletable": true,
    "editable": true
   },
   "outputs": [
    {
     "name": "stdout",
     "output_type": "stream",
     "text": [
      "done\n"
     ]
    }
   ],
   "source": [
    "import cv2 as cv\n",
    "import numpy as np\n",
    "import scipy.misc as misc\n",
    "import matplotlib.pyplot as plt\n",
    "import json\n",
    "import random\n",
    "from datetime import datetime\n",
    "random.seed(datetime.now())\n",
    "\n",
    "output_images_file = \"data_set/images/\"\n",
    "output_labels_file = \"data_set/labels/\"\n",
    "\n",
    "print (\"done\")"
   ]
  },
  {
   "cell_type": "code",
   "execution_count": 7,
   "metadata": {
    "collapsed": false,
    "deletable": true,
    "editable": true
   },
   "outputs": [
    {
     "name": "stdout",
     "output_type": "stream",
     "text": [
      "0\n",
      "1\n",
      "2\n",
      "3\n",
      "4\n",
      "5\n",
      "6\n",
      "7\n",
      "8\n",
      "9\n"
     ]
    }
   ],
   "source": [
    "size = 256\n",
    "border = 100\n",
    "list_fonts = []\n",
    "list_fonts.append(cv.FONT_HERSHEY_SIMPLEX)\n",
    "list_fonts.append(cv.FONT_HERSHEY_PLAIN)\n",
    "list_fonts.append(cv.FONT_HERSHEY_DUPLEX)\n",
    "list_fonts.append(cv.FONT_HERSHEY_COMPLEX)\n",
    "list_fonts.append(cv.FONT_HERSHEY_TRIPLEX)\n",
    "list_fonts.append(cv.FONT_HERSHEY_COMPLEX_SMALL)\n",
    "list_fonts.append(cv.FONT_HERSHEY_SCRIPT_SIMPLEX)\n",
    "list_fonts.append(cv.FONT_HERSHEY_SCRIPT_COMPLEX)\n",
    "\n",
    "list_rectangles = []\n",
    "\n",
    "image = np.zeros((size, size))\n",
    "for i in range(10):\n",
    "    text = 'OpenCV'\n",
    "    font = list_fonts[random.randint(0, len(list_fonts)-1)]\n",
    "    scale = 0.1*(random.randint(3, 10))\n",
    "    if scale >= 0.6:\n",
    "        thickness = random.randint(1, 2)\n",
    "    else:\n",
    "        thickness = 1\n",
    "    text_size, baseline = cv.getTextSize(text, font, scale, thickness)\n",
    "#     print(\"text_size: \", text_size)\n",
    "#     print(\"baseline: \", baseline)\n",
    "    print(i)\n",
    "    coordinates = []\n",
    "    \n",
    "    for j in range(size+2*border-text_size[0]):\n",
    "        for k in range(size+2*border-(text_size[1]+baseline)):\n",
    "            input_shape = [j-border, k+baseline-border, j+text_size[0]-border, k-text_size[1]-border]\n",
    "#             print (input_shape)\n",
    "            if(len(list_rectangles) > 0):\n",
    "                for l in range(len(list_rectangles)):\n",
    "                    # check if the input_shape overlaps the l rectangle\n",
    "                    if(input_shape[2]<list_rectangles[l][0] or input_shape[0]>list_rectangles[l][2]):\n",
    "                        # outside the rectangle in the x\n",
    "                        if(input_shape[3]<list_rectangles[l][1] or input_shape[1]>list_rectangles[l][3]):\n",
    "                            # outside the rectangle in the Y\n",
    "                            coordinates.append((j, k))\n",
    "            else:\n",
    "                coordinates.append((j, k))\n",
    "    if len(coordinates) > 0:\n",
    "        # make random selection for new text position\n",
    "        rand_coord = coordinates[random.randint(0, len(coordinates)-1)]\n",
    "        x = rand_coord[0]\n",
    "        y = rand_coord[1]\n",
    "    else:\n",
    "        print (\"image is full\")\n",
    "        break\n",
    "    \n",
    "    cv.putText(image, text, (x, y), font, scale, 255, thickness, cv.LINE_AA)\n",
    "    box_dim = [x, y+baseline, x+text_size[0], y-text_size[1]]\n",
    "#     cv.rectangle(image, (box_dim[0], box_dim[1]), (box_dim[2], box_dim[3]), 255)\n",
    "\n",
    "image = 255-image\n",
    "misc.imsave(output_images_file+'words'+str(i)+'.jpg', image)"
   ]
  },
  {
   "cell_type": "code",
   "execution_count": 8,
   "metadata": {
    "collapsed": false
   },
   "outputs": [
    {
     "data": {
      "image/png": "[encoded data removed]",
      "text/plain": [
       "<matplotlib.figure.Figure at 0x7f4bc82fa240>"
      ]
     },
     "metadata": {},
     "output_type": "display_data"
    }
   ],
   "source": [
    "\n",
    "plt.imshow(image, cmap='gray')\n",
    "plt.show()"
   ]
  },
  {
   "cell_type": "code",
   "execution_count": 78,
   "metadata": {
    "collapsed": false
   },
   "outputs": [],
   "source": [
    "misc.imsave('data_set/words'+str(0)+'.jpg', image)"
   ]
  },
  {
   "cell_type": "code",
   "execution_count": null,
   "metadata": {
    "collapsed": true
   },
   "outputs": [],
   "source": []
  }
 ],
 "metadata": {
  "kernelspec": {
   "display_name": "Python 3",
   "language": "python",
   "name": "python3"
  },
  "language_info": {
   "codemirror_mode": {
    "name": "ipython",
    "version": 3
   },
   "file_extension": ".py",
   "mimetype": "text/x-python",
   "name": "python",
   "nbconvert_exporter": "python",
   "pygments_lexer": "ipython3",
   "version": "3.5.2"
  }
 },
 "nbformat": 4,
 "nbformat_minor": 2
}
